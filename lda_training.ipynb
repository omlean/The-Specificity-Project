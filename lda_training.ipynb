{
 "cells": [
  {
   "cell_type": "code",
   "execution_count": 11,
   "metadata": {},
   "outputs": [],
   "source": [
    "import pandas as pd\n",
    "from tqdm import tqdm\n",
    "\n",
    "from gensim.corpora.dictionary import Dictionary\n",
    "from gensim.models.ldamodel import LdaModel\n",
    "import pickle\n",
    "\n",
    "import pyLDAvis\n",
    "import pyLDAvis.gensim_models as gensimvis\n",
    "pyLDAvis.enable_notebook()\n",
    "\n",
    "from my_files import get_text\n",
    "import my_preprocessing\n",
    "from my_preprocessing import clean_text\n",
    "from my_lda import MyCorpus"
   ]
  },
  {
   "cell_type": "code",
   "execution_count": 12,
   "metadata": {},
   "outputs": [
    {
     "name": "stdout",
     "output_type": "stream",
     "text": [
      "16842\n",
      "15092\n"
     ]
    }
   ],
   "source": [
    "# load metadata\n",
    "df = my_preprocessing.load_metadata()\n",
    "print(len(df))\n",
    "# drop documents that aren't research articles (front matter, obituaries, etc.)\n",
    "df = my_preprocessing.drop_non_research(df)\n",
    "print(len(df))\n",
    "# generate list of file paths for corpus\n",
    "filelist = ['data/txt/' + file for file in df.filename]"
   ]
  },
  {
   "cell_type": "code",
   "execution_count": 13,
   "metadata": {},
   "outputs": [],
   "source": [
    "# # create a dictionary for the corpus\n",
    "\n",
    "# corpus = MyCorpus(filelist, clean_text)\n",
    "# corpus.make_dictionary(save_directory='models/')\n",
    "# corpus.filter_extremes(no_below=5, \n",
    "#                        no_above=0.5, \n",
    "#                        keep_n=len(corpus.dictionary),\n",
    "#                        keep_tokens=None, \n",
    "#                        save_directory='models/', \n",
    "#                        file_name=\"dictionary\")"
   ]
  },
  {
   "cell_type": "code",
   "execution_count": 4,
   "metadata": {},
   "outputs": [],
   "source": [
    "# corpus.dictionary.save('models/dictionary.dict')"
   ]
  },
  {
   "cell_type": "code",
   "execution_count": 10,
   "metadata": {},
   "outputs": [],
   "source": [
    "# create corpus with existing dictionary\n",
    "\n",
    "corpus = MyCorpus(filelist, clean_text, dictionary=Dictionary.load('models/dictionary.dict'))"
   ]
  },
  {
   "cell_type": "markdown",
   "metadata": {},
   "source": [
    "## Model training"
   ]
  },
  {
   "cell_type": "code",
   "execution_count": 6,
   "metadata": {},
   "outputs": [],
   "source": [
    "num_topics = 25\n",
    "alpha = 1.0 # 50/num_topics is standard\n",
    "eta = 0.002 # 200/(number of words in dictionary) is standard\n",
    "\n",
    "model_id = f'lda_{str(num_topics)}_{str(alpha)}_{str(eta)}' # create model id based on hyperparameters\n",
    "model_path = 'models/' + model_id + '.pkl'"
   ]
  },
  {
   "cell_type": "code",
   "execution_count": 6,
   "metadata": {},
   "outputs": [],
   "source": [
    "# # train model\n",
    "# model = LdaModel(corpus, \n",
    "#                  num_topics=num_topics, \n",
    "#                  id2word = corpus.id2word,\n",
    "#                  alpha=alpha, \n",
    "#                  eta=eta)"
   ]
  },
  {
   "cell_type": "code",
   "execution_count": 7,
   "metadata": {},
   "outputs": [],
   "source": [
    "# # save trained model\n",
    "# with open(model_path, 'wb') as file:\n",
    "#     pickle.dump(model, file)"
   ]
  },
  {
   "cell_type": "code",
   "execution_count": 10,
   "metadata": {},
   "outputs": [],
   "source": [
    "# # load previously trained model\n",
    "\n",
    "# with open(model_path, 'rb') as file:\n",
    "#     model = pickle.load(file)"
   ]
  },
  {
   "cell_type": "markdown",
   "metadata": {},
   "source": [
    "## Generate Visualization"
   ]
  },
  {
   "cell_type": "code",
   "execution_count": 8,
   "metadata": {},
   "outputs": [],
   "source": [
    "vis = gensimvis.prepare(model, corpus, corpus.dictionary, sort_topics=False)"
   ]
  },
  {
   "cell_type": "code",
   "execution_count": 9,
   "metadata": {},
   "outputs": [],
   "source": [
    "pyLDAvis.save_html(vis, f'models/{model_id}.html')"
   ]
  }
 ],
 "metadata": {
  "kernelspec": {
   "display_name": "Python 3",
   "language": "python",
   "name": "python3"
  },
  "language_info": {
   "codemirror_mode": {
    "name": "ipython",
    "version": 3
   },
   "file_extension": ".py",
   "mimetype": "text/x-python",
   "name": "python",
   "nbconvert_exporter": "python",
   "pygments_lexer": "ipython3",
   "version": "3.8.3"
  }
 },
 "nbformat": 4,
 "nbformat_minor": 4
}

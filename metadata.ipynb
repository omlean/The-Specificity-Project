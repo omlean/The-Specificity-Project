{
 "cells": [
  {
   "cell_type": "code",
   "execution_count": 1,
   "metadata": {},
   "outputs": [],
   "source": [
    "import pandas as pd\n",
    "import numpy as np\n",
    "import os\n",
    "from tqdm import tqdm\n",
    "import matplotlib.pyplot as plt\n",
    "\n",
    "from my_files import get_metadata"
   ]
  },
  {
   "cell_type": "code",
   "execution_count": 2,
   "metadata": {},
   "outputs": [],
   "source": [
    "# generate list of file paths for xml metadata\n",
    "xml_directory = os.path.join('data', 'xml')\n",
    "xml_files = os.listdir(xml_directory)\n",
    "xml_files = [os.path.join(xml_directory, file) for file in xml_files]"
   ]
  },
  {
   "cell_type": "code",
   "execution_count": 3,
   "metadata": {},
   "outputs": [
    {
     "name": "stderr",
     "output_type": "stream",
     "text": [
      "100%|██████████| 16842/16842 [00:16<00:00, 1009.47it/s]\n"
     ]
    }
   ],
   "source": [
    "df = pd.DataFrame([get_metadata(file) for file in tqdm(xml_files)])"
   ]
  },
  {
   "cell_type": "markdown",
   "metadata": {},
   "source": [
    "### explore metadata to check for errors"
   ]
  },
  {
   "cell_type": "code",
   "execution_count": 4,
   "metadata": {},
   "outputs": [],
   "source": [
    "df.year = df.year.astype(int)"
   ]
  },
  {
   "cell_type": "code",
   "execution_count": 5,
   "metadata": {},
   "outputs": [
    {
     "data": {
      "text/plain": [
       "0"
      ]
     },
     "execution_count": 5,
     "metadata": {},
     "output_type": "execute_result"
    }
   ],
   "source": [
    "# check for duplicate jstor-ids:\n",
    "df['jstor-id'].duplicated().sum()"
   ]
  },
  {
   "cell_type": "code",
   "execution_count": 6,
   "metadata": {},
   "outputs": [
    {
     "data": {
      "text/plain": [
       "0"
      ]
     },
     "execution_count": 6,
     "metadata": {},
     "output_type": "execute_result"
    }
   ],
   "source": [
    "df['jstor-id'].isnull().sum()"
   ]
  },
  {
   "cell_type": "markdown",
   "metadata": {},
   "source": [
    "> All rows have a unique, non-null jstor-id"
   ]
  },
  {
   "cell_type": "code",
   "execution_count": 7,
   "metadata": {},
   "outputs": [
    {
     "data": {
      "text/plain": [
       "14659"
      ]
     },
     "execution_count": 7,
     "metadata": {},
     "output_type": "execute_result"
    }
   ],
   "source": [
    "# check for duplicate pub-doi-ids\n",
    "df['pub-doi-id'].duplicated().sum()"
   ]
  },
  {
   "cell_type": "code",
   "execution_count": 8,
   "metadata": {},
   "outputs": [
    {
     "data": {
      "text/plain": [
       "14648"
      ]
     },
     "execution_count": 8,
     "metadata": {},
     "output_type": "execute_result"
    }
   ],
   "source": [
    "# check for null pub-doi-ids\n",
    "df['pub-doi-id'].isnull().sum()"
   ]
  },
  {
   "cell_type": "code",
   "execution_count": 16,
   "metadata": {},
   "outputs": [
    {
     "data": {
      "text/html": [
       "<div>\n",
       "<style scoped>\n",
       "    .dataframe tbody tr th:only-of-type {\n",
       "        vertical-align: middle;\n",
       "    }\n",
       "\n",
       "    .dataframe tbody tr th {\n",
       "        vertical-align: top;\n",
       "    }\n",
       "\n",
       "    .dataframe thead th {\n",
       "        text-align: right;\n",
       "    }\n",
       "</style>\n",
       "<table border=\"1\" class=\"dataframe\">\n",
       "  <thead>\n",
       "    <tr style=\"text-align: right;\">\n",
       "      <th></th>\n",
       "      <th>pub-doi-id</th>\n",
       "      <th>title</th>\n",
       "    </tr>\n",
       "  </thead>\n",
       "  <tbody>\n",
       "    <tr>\n",
       "      <th>3063</th>\n",
       "      <td>10.1098/rspb.2004.2995</td>\n",
       "      <td>Errata: Genetic Variation for an Aphid Wing Po...</td>\n",
       "    </tr>\n",
       "    <tr>\n",
       "      <th>3080</th>\n",
       "      <td>10.1098/rspb.2004.2995</td>\n",
       "      <td>Genetic Variation for an Aphid Wing Polyphenis...</td>\n",
       "    </tr>\n",
       "    <tr>\n",
       "      <th>2868</th>\n",
       "      <td>10.1098/rspb.2005.3090</td>\n",
       "      <td>Supply-Side Invasion Ecology: Characterizing P...</td>\n",
       "    </tr>\n",
       "    <tr>\n",
       "      <th>3064</th>\n",
       "      <td>10.1098/rspb.2005.3090</td>\n",
       "      <td>Errata: Supply-Side Invasion Ecology: Characte...</td>\n",
       "    </tr>\n",
       "    <tr>\n",
       "      <th>3015</th>\n",
       "      <td>10.1098/rspb.2005.3243</td>\n",
       "      <td>Cattle Domestication in the Near East Was Foll...</td>\n",
       "    </tr>\n",
       "    <tr>\n",
       "      <th>3065</th>\n",
       "      <td>10.1098/rspb.2005.3243</td>\n",
       "      <td>Errata: Cattle Domestication in the near East ...</td>\n",
       "    </tr>\n",
       "    <tr>\n",
       "      <th>913</th>\n",
       "      <td>10.1098/rspb.2006.3652</td>\n",
       "      <td>Editorial</td>\n",
       "    </tr>\n",
       "    <tr>\n",
       "      <th>943</th>\n",
       "      <td>10.1098/rspb.2006.3652</td>\n",
       "      <td>Crossing the Impassable: Genetic Connections i...</td>\n",
       "    </tr>\n",
       "    <tr>\n",
       "      <th>1713</th>\n",
       "      <td>10.1098/rspb.2008.0003</td>\n",
       "      <td>The Early Evolution of Feathers: Fossil Eviden...</td>\n",
       "    </tr>\n",
       "    <tr>\n",
       "      <th>3510</th>\n",
       "      <td>10.1098/rspb.2008.0003</td>\n",
       "      <td>Reversal of Evolutionary Downsizing Caused by ...</td>\n",
       "    </tr>\n",
       "    <tr>\n",
       "      <th>1690</th>\n",
       "      <td>10.1098/rspb.2008.0004</td>\n",
       "      <td>Differences in Prolactin Levels between Three ...</td>\n",
       "    </tr>\n",
       "    <tr>\n",
       "      <th>3488</th>\n",
       "      <td>10.1098/rspb.2008.0004</td>\n",
       "      <td>Individual Differences in Distance Perception</td>\n",
       "    </tr>\n",
       "    <tr>\n",
       "      <th>3347</th>\n",
       "      <td>10.1098/rspb.2008.0958</td>\n",
       "      <td>Of Mice and (Viking?) Men: Phylogeography of B...</td>\n",
       "    </tr>\n",
       "    <tr>\n",
       "      <th>3616</th>\n",
       "      <td>10.1098/rspb.2008.0958</td>\n",
       "      <td>Mortality Risk Increases with Natal Dispersal ...</td>\n",
       "    </tr>\n",
       "    <tr>\n",
       "      <th>3522</th>\n",
       "      <td>10.1098/rspb.2008.1471</td>\n",
       "      <td>Juvenile Salmon with High Standard Metabolic R...</td>\n",
       "    </tr>\n",
       "    <tr>\n",
       "      <th>3499</th>\n",
       "      <td>10.1098/rspb.2008.1471</td>\n",
       "      <td>Brain Organization and the Origin of Insects: ...</td>\n",
       "    </tr>\n",
       "    <tr>\n",
       "      <th>3128</th>\n",
       "      <td>10.1098/rspb.2008.1510</td>\n",
       "      <td>Earthworm Genomes, Genes and Proteins: The (Re...</td>\n",
       "    </tr>\n",
       "    <tr>\n",
       "      <th>3145</th>\n",
       "      <td>10.1098/rspb.2008.1510</td>\n",
       "      <td>Pollinator Experience, Neophobia and the Evolu...</td>\n",
       "    </tr>\n",
       "    <tr>\n",
       "      <th>3169</th>\n",
       "      <td>10.1098/rspb.2008.1935</td>\n",
       "      <td>Task Differences Confound Sex Differences in R...</td>\n",
       "    </tr>\n",
       "    <tr>\n",
       "      <th>3197</th>\n",
       "      <td>10.1098/rspb.2008.1935</td>\n",
       "      <td>Temperature, but Not pH, Compromises Sea Urchi...</td>\n",
       "    </tr>\n",
       "    <tr>\n",
       "      <th>3227</th>\n",
       "      <td>10.1098/rspb.2009.0127</td>\n",
       "      <td>Trill Consistency Is an Age-Related Assessment...</td>\n",
       "    </tr>\n",
       "    <tr>\n",
       "      <th>3337</th>\n",
       "      <td>10.1098/rspb.2009.0127</td>\n",
       "      <td>Tool Use in Wild Orang-Utans Modifies Sound Pr...</td>\n",
       "    </tr>\n",
       "    <tr>\n",
       "      <th>3280</th>\n",
       "      <td>10.1098/rspb.2009.0508</td>\n",
       "      <td>Courtship Dives of Anna's Hummingbird Offer In...</td>\n",
       "    </tr>\n",
       "    <tr>\n",
       "      <th>3290</th>\n",
       "      <td>10.1098/rspb.2009.0508</td>\n",
       "      <td>Signals of Major Histocompatibility Complex Ov...</td>\n",
       "    </tr>\n",
       "  </tbody>\n",
       "</table>\n",
       "</div>"
      ],
      "text/plain": [
       "                  pub-doi-id  \\\n",
       "3063  10.1098/rspb.2004.2995   \n",
       "3080  10.1098/rspb.2004.2995   \n",
       "2868  10.1098/rspb.2005.3090   \n",
       "3064  10.1098/rspb.2005.3090   \n",
       "3015  10.1098/rspb.2005.3243   \n",
       "3065  10.1098/rspb.2005.3243   \n",
       "913   10.1098/rspb.2006.3652   \n",
       "943   10.1098/rspb.2006.3652   \n",
       "1713  10.1098/rspb.2008.0003   \n",
       "3510  10.1098/rspb.2008.0003   \n",
       "1690  10.1098/rspb.2008.0004   \n",
       "3488  10.1098/rspb.2008.0004   \n",
       "3347  10.1098/rspb.2008.0958   \n",
       "3616  10.1098/rspb.2008.0958   \n",
       "3522  10.1098/rspb.2008.1471   \n",
       "3499  10.1098/rspb.2008.1471   \n",
       "3128  10.1098/rspb.2008.1510   \n",
       "3145  10.1098/rspb.2008.1510   \n",
       "3169  10.1098/rspb.2008.1935   \n",
       "3197  10.1098/rspb.2008.1935   \n",
       "3227  10.1098/rspb.2009.0127   \n",
       "3337  10.1098/rspb.2009.0127   \n",
       "3280  10.1098/rspb.2009.0508   \n",
       "3290  10.1098/rspb.2009.0508   \n",
       "\n",
       "                                                  title  \n",
       "3063  Errata: Genetic Variation for an Aphid Wing Po...  \n",
       "3080  Genetic Variation for an Aphid Wing Polyphenis...  \n",
       "2868  Supply-Side Invasion Ecology: Characterizing P...  \n",
       "3064  Errata: Supply-Side Invasion Ecology: Characte...  \n",
       "3015  Cattle Domestication in the Near East Was Foll...  \n",
       "3065  Errata: Cattle Domestication in the near East ...  \n",
       "913                                           Editorial  \n",
       "943   Crossing the Impassable: Genetic Connections i...  \n",
       "1713  The Early Evolution of Feathers: Fossil Eviden...  \n",
       "3510  Reversal of Evolutionary Downsizing Caused by ...  \n",
       "1690  Differences in Prolactin Levels between Three ...  \n",
       "3488      Individual Differences in Distance Perception  \n",
       "3347  Of Mice and (Viking?) Men: Phylogeography of B...  \n",
       "3616  Mortality Risk Increases with Natal Dispersal ...  \n",
       "3522  Juvenile Salmon with High Standard Metabolic R...  \n",
       "3499  Brain Organization and the Origin of Insects: ...  \n",
       "3128  Earthworm Genomes, Genes and Proteins: The (Re...  \n",
       "3145  Pollinator Experience, Neophobia and the Evolu...  \n",
       "3169  Task Differences Confound Sex Differences in R...  \n",
       "3197  Temperature, but Not pH, Compromises Sea Urchi...  \n",
       "3227  Trill Consistency Is an Age-Related Assessment...  \n",
       "3337  Tool Use in Wild Orang-Utans Modifies Sound Pr...  \n",
       "3280  Courtship Dives of Anna's Hummingbird Offer In...  \n",
       "3290  Signals of Major Histocompatibility Complex Ov...  "
      ]
     },
     "execution_count": 16,
     "metadata": {},
     "output_type": "execute_result"
    }
   ],
   "source": [
    "# some doi-ids are duplicated - investigate\n",
    "doi_notnulls = df[df['pub-doi-id'].notnull()]\n",
    "duplicated_dois = doi_notnulls[doi_notnulls['pub-doi-id'].duplicated(keep=False)]\n",
    "duplicated_dois.sort_values('pub-doi-id')[['pub-doi-id', 'title']]"
   ]
  },
  {
   "cell_type": "markdown",
   "metadata": {},
   "source": [
    "Some duplicated doi's are because the article has an errata. In other cases the same doi is attached to two completely different articles."
   ]
  },
  {
   "cell_type": "code",
   "execution_count": 17,
   "metadata": {},
   "outputs": [],
   "source": [
    "# # save as .csv\n",
    "# df.to_csv('data/metadata.csv.gz', index=False, sep='\\t', compression='gzip')"
   ]
  },
  {
   "cell_type": "markdown",
   "metadata": {},
   "source": [
    "## Metadata exploration"
   ]
  },
  {
   "cell_type": "code",
   "execution_count": 18,
   "metadata": {},
   "outputs": [
    {
     "data": {
      "text/plain": [
       "filename          0\n",
       "jstor-id          0\n",
       "title             0\n",
       "authors        1973\n",
       "year              0\n",
       "month             0\n",
       "volume            0\n",
       "issue           200\n",
       "pages           802\n",
       "keywords      11988\n",
       "abstract          0\n",
       "pub-doi-id        0\n",
       "dtype: int64"
      ]
     },
     "execution_count": 18,
     "metadata": {},
     "output_type": "execute_result"
    }
   ],
   "source": [
    "# are there missing (or empty-string) values?\n",
    "(df == '').sum()"
   ]
  },
  {
   "cell_type": "code",
   "execution_count": 19,
   "metadata": {},
   "outputs": [
    {
     "data": {
      "text/plain": [
       "Front Matter                                                                                                                                                                        690\n",
       "Back Matter                                                                                                                                                                         686\n",
       "Volume Information                                                                                                                                                                  345\n",
       "Obituary Notices of Fellows Deceased                                                                                                                                                 25\n",
       "Obituary Notices                                                                                                                                                                      4\n",
       "                                                                                                                                                                                   ... \n",
       "Address of the President Dr E. D. Adrian, O.M., at the Anniversary Meeting, 30 November 1954                                                                                          1\n",
       "Erratum: Promotion of Regeneration and Axon Growth Following Injury in an Invertebrate Nervous System by the Use of Three-Dimensional Collagen Gels                                   1\n",
       "Address of the President, Lord Rayleigh, O.M., D.C.L., at the Anniversary Meeting on November 30, 1906                                                                                1\n",
       "Errata: Left-Right Asymmetry of Fly Wings and the Evolution of Body Axes                                                                                                              1\n",
       "Errata: Studies on a Nudibranch that Contains Zooxanthellae I. Photosynthesis, Respiration and the Translocation of Newly Fixed Carbon by Zooxanthellae in Pteraeolidia ianthina      1\n",
       "Name: title, Length: 223, dtype: int64"
      ]
     },
     "execution_count": 19,
     "metadata": {},
     "output_type": "execute_result"
    }
   ],
   "source": [
    "df[df.authors == ''].title.value_counts()"
   ]
  },
  {
   "cell_type": "code",
   "execution_count": 20,
   "metadata": {},
   "outputs": [
    {
     "data": {
      "text/plain": [
       "filename          0\n",
       "jstor-id          0\n",
       "title             0\n",
       "authors           0\n",
       "year              0\n",
       "month             0\n",
       "volume            0\n",
       "issue             0\n",
       "pages             0\n",
       "keywords          0\n",
       "abstract       4795\n",
       "pub-doi-id    14648\n",
       "dtype: int64"
      ]
     },
     "execution_count": 20,
     "metadata": {},
     "output_type": "execute_result"
    }
   ],
   "source": [
    "# check remaining null values\n",
    "df.isnull().sum()"
   ]
  },
  {
   "cell_type": "code",
   "execution_count": 21,
   "metadata": {},
   "outputs": [
    {
     "data": {
      "text/plain": [
       "Text(0, 0.5, 'Number of papers')"
      ]
     },
     "execution_count": 21,
     "metadata": {},
     "output_type": "execute_result"
    },
    {
     "data": {
      "image/png": "[encoded data removed]",
      "text/plain": [
       "<Figure size 1440x720 with 1 Axes>"
      ]
     },
     "metadata": {
      "needs_background": "light"
     },
     "output_type": "display_data"
    }
   ],
   "source": [
    "# What years were the paper published?\n",
    "years = df.year.value_counts().sort_index()\n",
    "plt.figure(figsize=(20,10))\n",
    "plt.bar(years.index, years.values)\n",
    "plt.xticks(np.arange(1905, 2016, 5), rotation=45)\n",
    "plt.xlabel('Year', size=15)\n",
    "plt.ylabel('Number of papers', size=15)"
   ]
  }
 ],
 "metadata": {
  "kernelspec": {
   "display_name": "Python (specificity)",
   "language": "python",
   "name": "specificity"
  },
  "language_info": {
   "codemirror_mode": {
    "name": "ipython",
    "version": 3
   },
   "file_extension": ".py",
   "mimetype": "text/x-python",
   "name": "python",
   "nbconvert_exporter": "python",
   "pygments_lexer": "ipython3",
   "version": "3.6.13"
  }
 },
 "nbformat": 4,
 "nbformat_minor": 4
}
